{
 "cells": [
  {
   "cell_type": "code",
   "execution_count": null,
   "id": "c0becc04-760a-4b07-8fb1-8b058a2c1fdd",
   "metadata": {
    "tags": []
   },
   "outputs": [],
   "source": [
    "#Date:9/29/2022\n",
    "#Author: Talia Kurtz\n",
    "\n",
    "#Purpose of the Code:\n",
    "'''\n",
    "This code is used to take the CSV file containing the clear day data provided by Lauren Vocke and get that data into the format needed to fed into the SOM/ARM\n",
    "xarray file that contains the winning node times and the variables. A list needs to be made of the each hour of no blowing snow so the reformatted start and end time of the clear\n",
    "day analysis is then used to create a text file that contains all of the times to which conditions where clear\n",
    "\n",
    "'''\n",
    "#What is saved?\n",
    "'''\n",
    "This code saves the reformatted clear day data as a CSV file that will be then called into a secondary loop that outputs a text file containing all of the times to which clear\n",
    "conditions where observed.\n",
    "'''\n",
    "######################################################################################################################\n",
    "#Imports \n",
    "import csv\n",
    "import pandas as pd\n",
    "import xarray as xr\n",
    "from datetime import datetime"
   ]
  },
  {
   "cell_type": "code",
   "execution_count": null,
   "id": "37e1b017-3c7d-4057-a6e3-9571df856322",
   "metadata": {
    "tags": []
   },
   "outputs": [],
   "source": [
    "### Read in Clear Day Data ###\n",
    "file = open('/Users/research/thesis_code/clear_day_data_2010_2020.csv')\n",
    "csvreader = csv.reader(file)\n",
    "###########################################################################################################################\n",
    "rows = []\n",
    "for row in csvreader:\n",
    "        rows.append(row)\n",
    "rows "
   ]
  },
  {
   "cell_type": "code",
   "execution_count": null,
   "id": "1d71db77-c9be-4241-b899-b6aa48b5584f",
   "metadata": {},
   "outputs": [],
   "source": [
    "#Generate a Pandas dataframe with the read in CSV file data\n",
    "list_name = rows\n",
    "df = pd.DataFrame (list_name, columns=['Date', 'Start_Time', 'End_Time'])\n",
    "#For the loop the index will be used to loop through so make that a variable\n",
    "index = df.index.tolist()"
   ]
  },
  {
   "cell_type": "code",
   "execution_count": null,
   "id": "d296eee8-2b12-4202-88bb-624122e3de56",
   "metadata": {
    "tags": []
   },
   "outputs": [],
   "source": [
    "#This loop is used to reformat the date from YYYYMMDD [new col]  H [new col] end H to YYYY-MM-DD H.\n",
    "data = []\n",
    "for i in index:\n",
    "    year = (str(df['Date'][i])[0:4]) #Pulling out the year and making it a variable for each iterations\n",
    "    month = (str(df['Date'][i])[4:6]) #Pulling the month and making it a variable for each iterations\n",
    "    day = (str(df['Date'][i])[6:8])#Pulling the date and making it a variable for each iterations\n",
    "    date= (year+'-'+month+'-'+day) #Structuring the year month and date variable to align with the structure for the datetime.shifttime function used later\n",
    "    start_hour = (str(df['Start_Time'][i])[0:2])\n",
    "    end_hour = (str(df['End_Time'][i])[0:2])\n",
    "    start_date = str(date+' '+start_hour) #This is structuring the date so it is easy to plug into the datetime.shifttime function\n",
    "    end_date = str(date+' '+end_hour)\n",
    "    data.append([start_date, end_date])   #Generating a dataframe that has one col being the start time and one col being the end time and they are the same length\n",
    "df_new = pd.DataFrame(data, columns=['Start', 'End']) #Generates the new dataframe and this can be saved "
   ]
  },
  {
   "cell_type": "code",
   "execution_count": null,
   "id": "2e76e4a2-5f8e-470a-9177-034447caf087",
   "metadata": {
    "tags": []
   },
   "outputs": [],
   "source": [
    "#Saving our new dataframe so it can be used in other codes\n",
    "df_new.to_csv('/Users/research/thesis_code/clear_day_2010_2020_reformatted.csv')"
   ]
  },
  {
   "cell_type": "code",
   "execution_count": null,
   "id": "a38cb736-abca-4281-b3e7-ac05d35af16d",
   "metadata": {},
   "outputs": [],
   "source": [
    "#Opening to make sure that the dataframe looks the way we want it to \n",
    "df_new"
   ]
  },
  {
   "cell_type": "code",
   "execution_count": null,
   "id": "e32a051c-1d41-47e0-8070-8148fffd3588",
   "metadata": {
    "tags": []
   },
   "outputs": [],
   "source": [
    "'''\n",
    "Using that dataframe we will be generating a text file that contains every hour that there was clear conditions. You will create a list of the time for every\n",
    "index whihc represents a range of times since col #1 is the start and col #2 is the end. You will then append each of those list to a text file that contains a large\n",
    "list of all the clear dya times.\n",
    "\n",
    "'''\n",
    "clear_days = []\n",
    "new_index = df_new.index.tolist()\n",
    "with open(r'/Users/research/thesis_code/ARM_Code_Steps/clear_day_list_hrs.txt', 'w') as fp:\n",
    "    for i in new_index:\n",
    "        start =datetime.strptime(df_new['Start'][i], \"%Y-%m-%d %H\")\n",
    "        end = datetime.strptime(df_new['End'][i], \"%Y-%m-%d %H\")\n",
    "        date_generated = pd.date_range(start, end, freq='1H')\n",
    "        list_1 = date_generated.strftime(\"%Y-%m-%d %H\")\n",
    "        vals = list_1.values\n",
    "\n",
    "        #Following the \"in\" will be the name of the list that you want to save.\n",
    "        for item in vals:\n",
    "                # write each item on a new line\n",
    "            fp.write(\"%s\\n\" % item)\n",
    "        print('Done BISH!')"
   ]
  },
  {
   "cell_type": "code",
   "execution_count": null,
   "id": "27780806-d65a-4f43-aa1b-a808cbfdc75f",
   "metadata": {},
   "outputs": [],
   "source": []
  }
 ],
 "metadata": {
  "kernelspec": {
   "display_name": "Python 3 (ipykernel)",
   "language": "python",
   "name": "python3"
  },
  "language_info": {
   "codemirror_mode": {
    "name": "ipython",
    "version": 3
   },
   "file_extension": ".py",
   "mimetype": "text/x-python",
   "name": "python",
   "nbconvert_exporter": "python",
   "pygments_lexer": "ipython3",
   "version": "3.8.13"
  }
 },
 "nbformat": 4,
 "nbformat_minor": 5
}

{
 "cells": [
  {
   "cell_type": "code",
   "execution_count": null,
   "id": "e3e6de9f-8579-4a5f-9f5d-e22f5ab66c1a",
   "metadata": {},
   "outputs": [],
   "source": [
    "#Date: 9/26/2022\n",
    "#Author: Talia Kurtz\n",
    "\n",
    "#Purpose of the code: This code is used to take the ARM data that has been resampled to hourly mean files for each year and fill the missing time stamps with NaNs to ensure that every file when\\\n",
    "#they are globbed together is the same size. This method uses the reindex_like function to do this. You will want to change the ds_time start/end to match the dataset. The frequency variable does not change \n",
    "#because every file is hourly data. The ARM data has a lot of variables that we are not interested in so to reduce the number of variables and the size of each file the variables that we are not interested\n",
    "# in are dropped out of the data set. This code also pulls just the winter months as those are the only months we are interested in. \n",
    "\n",
    "#What is saved?\n",
    "#This code saves the reduced, time filled in with nans files for each year to netCDF files to be used in another code that acts to NaN out bad data."
   ]
  },
  {
   "cell_type": "code",
   "execution_count": null,
   "id": "447af0e9-c47d-4515-90d5-020688ad80c5",
   "metadata": {},
   "outputs": [],
   "source": [
    "#Imports\n",
    "import xarray as xr\n",
    "import numpy as np\n",
    "import pandas as pd\n",
    "import warnings\n",
    "import re\n",
    "from datetime import datetime\n",
    "import xarray as xr\n",
    "import glob\n",
    "\n",
    "#Open the dataset you want to work with\n",
    "PATH ='/Users/research/thesis_code/ARM_years/'\n",
    "ds = xr.open_dataset(PATH+'arm_1hr_2022.nc')"
   ]
  },
  {
   "cell_type": "code",
   "execution_count": null,
   "id": "6326546e-e57a-4d1c-a50d-8b0de85b9d49",
   "metadata": {},
   "outputs": [],
   "source": [
    "#Gnerate a dataset that has all the times for whatever you year you are looking at \n",
    "ds_time = xr.Dataset({'time':pd.date_range(start='2022-01-01 00:00:00',\n",
    "                                            end='2022-06-05 23:00:00', freq='1H')})"
   ]
  },
  {
   "cell_type": "code",
   "execution_count": null,
   "id": "4bc62462-1e9f-4fd6-a0d6-4d19bb5239c5",
   "metadata": {},
   "outputs": [],
   "source": [
    "#Minus one to the dataarray will return the last values in the array so you can confirm that the ds_time ends where you want it too\n",
    "ds_time['time'][-1]"
   ]
  },
  {
   "cell_type": "code",
   "execution_count": null,
   "id": "82ff40fb-9867-44bd-a2c3-fa99f3f4d9f1",
   "metadata": {},
   "outputs": [],
   "source": [
    "#This code snip goes through and compares the dataset you opened to the dataset you made in the previous two code blocks and \n",
    "#if there is a missing time it fills that time with a nan. This makes sure that you have no missing dates.\n",
    "ds= ds.reindex_like(ds_time, method=None)"
   ]
  },
  {
   "cell_type": "code",
   "execution_count": null,
   "id": "b467edff-5582-4a2e-b85c-007bda7ab023",
   "metadata": {},
   "outputs": [],
   "source": [
    "#Grabbing only the Winter month data in this line.\n",
    "ds_2 = ds.isel(time=ds.time.dt.month.isin([1,2,3,4,10,11,12]))"
   ]
  },
  {
   "cell_type": "code",
   "execution_count": null,
   "id": "25a58be4-7c65-4f87-9556-d740f87daf85",
   "metadata": {},
   "outputs": [],
   "source": [
    "#This code drops the unneeded variables so that we have a smaller file and less variables to work with.\n",
    "dt = ds_2.drop(['qc_logger_temp','logger_temp','logger_volt','trh_err_code','dew_point_std','qc_dew_point_mean','dew_point_mean','qc_cmh_rh','cmh_rh','qc_cmh_vapor_pressure','cmh_vapor_pressure','qc_cmh_sat_vapor_pressure','cmh_sat_vapor_pressure','qc_cmh_dew_point','cmh_dew_point'])\n",
    "dm = dt.drop(['qc_cmh_temp','cmh_temp','qc_pwd_cumul_rain','pwd_cumul_rain', 'vapor_pressure_mean', 'qc_vapor_pressure_mean','vapor_pressure_std', 'base_time'])"
   ]
  },
  {
   "cell_type": "code",
   "execution_count": null,
   "id": "1a84434e-a54f-48b1-9ffd-0e8f12df2937",
   "metadata": {},
   "outputs": [],
   "source": [
    "#This line is for 2010 data since it has extra variables than the rest of the years \n",
    "#da = dm.drop(['qc_logger_volt','qc_time','qc_pws_cumul_snow','pws_cumul_snow','qc_pws_precip_rate_mean_1min','pws_precip_rate_mean_1min','qc_pws_pw_code_1hr','pws_pw_code_1hr','qc_pws_pw_code_15min','pws_pw_code_15min','qc_pws_pw_code_inst','pws_pw_code_inst','qc_pws_mean_vis_10min','pws_mean_vis_10min','qc_pws_mean_vis_1min','pws_mean_vis_1min','pws_err_code'])"
   ]
  },
  {
   "cell_type": "code",
   "execution_count": null,
   "id": "ab995427-d6d0-4975-a32b-9498b403bc6b",
   "metadata": {},
   "outputs": [],
   "source": [
    "#Saves the new dataset to a .nc file\n",
    "dm.to_netcdf('/Users/research/thesis_code/ARM_data_winter_months/ARM_2022_reduced.nc')"
   ]
  }
 ],
 "metadata": {
  "kernelspec": {
   "display_name": "Python 3 (ipykernel)",
   "language": "python",
   "name": "python3"
  },
  "language_info": {
   "codemirror_mode": {
    "name": "ipython",
    "version": 3
   },
   "file_extension": ".py",
   "mimetype": "text/x-python",
   "name": "python",
   "nbconvert_exporter": "python",
   "pygments_lexer": "ipython3",
   "version": "3.8.13"
  }
 },
 "nbformat": 4,
 "nbformat_minor": 5
}
